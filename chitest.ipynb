{
 "cells": [
  {
   "cell_type": "code",
   "execution_count": 1,
   "id": "464571c4-daab-4c00-861d-e25dc7dcabc1",
   "metadata": {},
   "outputs": [],
   "source": [
    "import numpy as np\n",
    "import scipy.stats as stats"
   ]
  },
  {
   "cell_type": "code",
   "execution_count": 2,
   "id": "e1ede9ad-b503-463f-8c47-ad9d1c6212ed",
   "metadata": {},
   "outputs": [],
   "source": [
    "# Step 1: Define the contingency table\n",
    "data = np.array([[50, 70],  \n",
    "                 [80, 100], \n",
    "                 [60, 90],  \n",
    "                 [30, 50],  \n",
    "                 [20, 50]]) "
   ]
  },
  {
   "cell_type": "code",
   "execution_count": 3,
   "id": "c460a703-3cbc-48ed-b079-803ece3a3720",
   "metadata": {},
   "outputs": [],
   "source": [
    "# Step 2: Perform the Chi-Square test\n",
    "chi2_stat, p_value, dof, expected = stats.chi2_contingency(data)\n"
   ]
  },
  {
   "cell_type": "code",
   "execution_count": 4,
   "id": "04aca09e-ce7d-464f-b8dc-ec9ea7514fac",
   "metadata": {},
   "outputs": [],
   "source": [
    "# Step 3: Determine the critical value\n",
    "alpha = 0.05\n",
    "critical_value = stats.chi2.ppf(1 - alpha, dof)"
   ]
  },
  {
   "cell_type": "code",
   "execution_count": 5,
   "id": "abfb65ca-0fc2-4553-aaaf-6c1884e85e54",
   "metadata": {},
   "outputs": [
    {
     "name": "stdout",
     "output_type": "stream",
     "text": [
      "Chi-Square Statistic: 5.638227513227513\n",
      "Degrees of Freedom: 4\n",
      "Critical Value: 9.487729036781154\n",
      "P-Value: 0.22784371130697179\n"
     ]
    }
   ],
   "source": [
    "# Step 4: Print results\n",
    "print(f\"Chi-Square Statistic: {chi2_stat}\")\n",
    "print(f\"Degrees of Freedom: {dof}\")\n",
    "print(f\"Critical Value: {critical_value}\")\n",
    "print(f\"P-Value: {p_value}\")"
   ]
  },
  {
   "cell_type": "code",
   "execution_count": 6,
   "id": "905b8bc1-7cb2-4f63-ab2f-8e61e0894db8",
   "metadata": {},
   "outputs": [
    {
     "name": "stdout",
     "output_type": "stream",
     "text": [
      "Fail to reject the null hypothesis: No significant association between device type and satisfaction level.\n"
     ]
    }
   ],
   "source": [
    "# Step 5: Decision making\n",
    "if chi2_stat > critical_value:\n",
    "    print(\"Reject the null hypothesis: There is a significant association between device type and satisfaction level.\")\n",
    "else:\n",
    "    print(\"Fail to reject the null hypothesis: No significant association between device type and satisfaction level.\")\n"
   ]
  },
  {
   "cell_type": "code",
   "execution_count": null,
   "id": "583a1757-e775-4a84-8e6b-223b7f5b2766",
   "metadata": {},
   "outputs": [],
   "source": []
  }
 ],
 "metadata": {
  "kernelspec": {
   "display_name": "Python 3 (ipykernel)",
   "language": "python",
   "name": "python3"
  },
  "language_info": {
   "codemirror_mode": {
    "name": "ipython",
    "version": 3
   },
   "file_extension": ".py",
   "mimetype": "text/x-python",
   "name": "python",
   "nbconvert_exporter": "python",
   "pygments_lexer": "ipython3",
   "version": "3.12.4"
  }
 },
 "nbformat": 4,
 "nbformat_minor": 5
}
