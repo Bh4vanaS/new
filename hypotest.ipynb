{
 "cells": [
  {
   "cell_type": "code",
   "execution_count": 1,
   "id": "af7d3548-70a0-475c-b72b-39d79fa4bac5",
   "metadata": {},
   "outputs": [],
   "source": [
    "import scipy.stats as stats\n",
    "import numpy as np"
   ]
  },
  {
   "cell_type": "code",
   "execution_count": 2,
   "id": "67b4576b-2348-4ee1-a675-2cf3c75bf52d",
   "metadata": {},
   "outputs": [],
   "source": [
    "# Step 1: Define the given values\n",
    "sample_mean = 3050  # Mean weekly cost from sample\n",
    "X_mean = 600  # Mean number of units produced\n",
    "sigma_X = 25  # Standard deviation of units produced\n",
    "n = 25  # Sample size"
   ]
  },
  {
   "cell_type": "code",
   "execution_count": 3,
   "id": "c88dbc0c-3f2a-4ff6-b2f2-7c69480f2704",
   "metadata": {},
   "outputs": [],
   "source": [
    "# Compute the theoretical mean cost from the given cost model\n",
    "theoretical_mean = 1000 + (5 * X_mean)"
   ]
  },
  {
   "cell_type": "code",
   "execution_count": 4,
   "id": "beca0132-827a-436c-941f-27ebe63391b5",
   "metadata": {},
   "outputs": [],
   "source": [
    "# Compute the standard deviation of cost\n",
    "sigma_cost = 5 * sigma_X"
   ]
  },
  {
   "cell_type": "code",
   "execution_count": 5,
   "id": "b8de6df2-bbc5-49c5-b77f-e7c951248db9",
   "metadata": {},
   "outputs": [],
   "source": [
    "# Step 2: Compute the test statistic (t-score)\n",
    "t_stat = (sample_mean - theoretical_mean) / (sigma_cost / np.sqrt(n))"
   ]
  },
  {
   "cell_type": "code",
   "execution_count": 6,
   "id": "9e4e9e34-db72-42ef-8faf-6ff0e043ce4f",
   "metadata": {},
   "outputs": [],
   "source": [
    "# Step 3: Determine the critical value (one-tailed test, α = 0.05)\n",
    "alpha = 0.05\n",
    "critical_value = stats.norm.ppf(1 - alpha)"
   ]
  },
  {
   "cell_type": "code",
   "execution_count": 7,
   "id": "a384fd1c-f727-4a8a-b84a-f595a14b77e4",
   "metadata": {},
   "outputs": [
    {
     "name": "stdout",
     "output_type": "stream",
     "text": [
      "Test Statistic (t-score): -38.0\n",
      "Critical Value: 1.6448536269514722\n"
     ]
    }
   ],
   "source": [
    "# Step 4: Print results\n",
    "print(f\"Test Statistic (t-score): {t_stat}\")\n",
    "print(f\"Critical Value: {critical_value}\")"
   ]
  },
  {
   "cell_type": "code",
   "execution_count": 8,
   "id": "e0991564-faed-4d33-8dab-fa8adba7b68f",
   "metadata": {},
   "outputs": [
    {
     "name": "stdout",
     "output_type": "stream",
     "text": [
      "Fail to reject the null hypothesis: There is not enough evidence to claim the weekly operating costs are higher than the model suggests.\n"
     ]
    }
   ],
   "source": [
    "# Step 5: Decision making\n",
    "if t_stat > critical_value:\n",
    "    print(\"Reject the null hypothesis: There is strong evidence to support that the weekly operating costs are higher than the model suggests.\")\n",
    "else:\n",
    "    print(\"Fail to reject the null hypothesis: There is not enough evidence to claim the weekly operating costs are higher than the model suggests.\")\n"
   ]
  },
  {
   "cell_type": "code",
   "execution_count": null,
   "id": "48ca2c34-3dee-4eb0-ae31-a74ee1473648",
   "metadata": {},
   "outputs": [],
   "source": []
  }
 ],
 "metadata": {
  "kernelspec": {
   "display_name": "Python 3 (ipykernel)",
   "language": "python",
   "name": "python3"
  },
  "language_info": {
   "codemirror_mode": {
    "name": "ipython",
    "version": 3
   },
   "file_extension": ".py",
   "mimetype": "text/x-python",
   "name": "python",
   "nbconvert_exporter": "python",
   "pygments_lexer": "ipython3",
   "version": "3.12.4"
  }
 },
 "nbformat": 4,
 "nbformat_minor": 5
}
