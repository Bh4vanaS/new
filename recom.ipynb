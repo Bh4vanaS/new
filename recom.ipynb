{
 "cells": [
  {
   "cell_type": "code",
   "execution_count": 1,
   "id": "a3d17273-5c46-4b90-b5e0-bfa7ad9e201c",
   "metadata": {},
   "outputs": [],
   "source": [
    "import pandas as pd\n",
    "from sklearn.feature_extraction.text import TfidfVectorizer\n",
    "from sklearn.metrics.pairwise import cosine_similarity"
   ]
  },
  {
   "cell_type": "code",
   "execution_count": 7,
   "id": "fc51d744-aa77-42a6-b40d-96bdda74be59",
   "metadata": {},
   "outputs": [
    {
     "name": "stderr",
     "output_type": "stream",
     "text": [
      "C:\\Users\\sschp\\AppData\\Local\\Temp\\ipykernel_2924\\4150425848.py:3: FutureWarning: Setting an item of incompatible dtype is deprecated and will raise an error in a future version of pandas. Value '' has dtype incompatible with float64, please explicitly cast to a compatible dtype first.\n",
      "  df.fillna('', inplace=True)  # Fill missing values\n"
     ]
    }
   ],
   "source": [
    "# Step 1: Load Data\n",
    "df = pd.read_csv('anime.csv')\n",
    "df.fillna('', inplace=True)  # Fill missing values\n"
   ]
  },
  {
   "cell_type": "code",
   "execution_count": 8,
   "id": "c8ab2919-ed57-491c-8788-858bfdf1c312",
   "metadata": {},
   "outputs": [
    {
     "data": {
      "text/html": [
       "<div>\n",
       "<style scoped>\n",
       "    .dataframe tbody tr th:only-of-type {\n",
       "        vertical-align: middle;\n",
       "    }\n",
       "\n",
       "    .dataframe tbody tr th {\n",
       "        vertical-align: top;\n",
       "    }\n",
       "\n",
       "    .dataframe thead th {\n",
       "        text-align: right;\n",
       "    }\n",
       "</style>\n",
       "<table border=\"1\" class=\"dataframe\">\n",
       "  <thead>\n",
       "    <tr style=\"text-align: right;\">\n",
       "      <th></th>\n",
       "      <th>anime_id</th>\n",
       "      <th>name</th>\n",
       "      <th>genre</th>\n",
       "      <th>type</th>\n",
       "      <th>episodes</th>\n",
       "      <th>rating</th>\n",
       "      <th>members</th>\n",
       "    </tr>\n",
       "  </thead>\n",
       "  <tbody>\n",
       "    <tr>\n",
       "      <th>0</th>\n",
       "      <td>32281</td>\n",
       "      <td>Kimi no Na wa.</td>\n",
       "      <td>Drama, Romance, School, Supernatural</td>\n",
       "      <td>Movie</td>\n",
       "      <td>1</td>\n",
       "      <td>9.37</td>\n",
       "      <td>200630</td>\n",
       "    </tr>\n",
       "    <tr>\n",
       "      <th>1</th>\n",
       "      <td>5114</td>\n",
       "      <td>Fullmetal Alchemist: Brotherhood</td>\n",
       "      <td>Action, Adventure, Drama, Fantasy, Magic, Mili...</td>\n",
       "      <td>TV</td>\n",
       "      <td>64</td>\n",
       "      <td>9.26</td>\n",
       "      <td>793665</td>\n",
       "    </tr>\n",
       "    <tr>\n",
       "      <th>2</th>\n",
       "      <td>28977</td>\n",
       "      <td>Gintama°</td>\n",
       "      <td>Action, Comedy, Historical, Parody, Samurai, S...</td>\n",
       "      <td>TV</td>\n",
       "      <td>51</td>\n",
       "      <td>9.25</td>\n",
       "      <td>114262</td>\n",
       "    </tr>\n",
       "    <tr>\n",
       "      <th>3</th>\n",
       "      <td>9253</td>\n",
       "      <td>Steins;Gate</td>\n",
       "      <td>Sci-Fi, Thriller</td>\n",
       "      <td>TV</td>\n",
       "      <td>24</td>\n",
       "      <td>9.17</td>\n",
       "      <td>673572</td>\n",
       "    </tr>\n",
       "    <tr>\n",
       "      <th>4</th>\n",
       "      <td>9969</td>\n",
       "      <td>Gintama&amp;#039;</td>\n",
       "      <td>Action, Comedy, Historical, Parody, Samurai, S...</td>\n",
       "      <td>TV</td>\n",
       "      <td>51</td>\n",
       "      <td>9.16</td>\n",
       "      <td>151266</td>\n",
       "    </tr>\n",
       "  </tbody>\n",
       "</table>\n",
       "</div>"
      ],
      "text/plain": [
       "   anime_id                              name  \\\n",
       "0     32281                    Kimi no Na wa.   \n",
       "1      5114  Fullmetal Alchemist: Brotherhood   \n",
       "2     28977                          Gintama°   \n",
       "3      9253                       Steins;Gate   \n",
       "4      9969                     Gintama&#039;   \n",
       "\n",
       "                                               genre   type episodes rating  \\\n",
       "0               Drama, Romance, School, Supernatural  Movie        1   9.37   \n",
       "1  Action, Adventure, Drama, Fantasy, Magic, Mili...     TV       64   9.26   \n",
       "2  Action, Comedy, Historical, Parody, Samurai, S...     TV       51   9.25   \n",
       "3                                   Sci-Fi, Thriller     TV       24   9.17   \n",
       "4  Action, Comedy, Historical, Parody, Samurai, S...     TV       51   9.16   \n",
       "\n",
       "   members  \n",
       "0   200630  \n",
       "1   793665  \n",
       "2   114262  \n",
       "3   673572  \n",
       "4   151266  "
      ]
     },
     "execution_count": 8,
     "metadata": {},
     "output_type": "execute_result"
    }
   ],
   "source": [
    "df.head()"
   ]
  },
  {
   "cell_type": "code",
   "execution_count": 13,
   "id": "8d15446a-ed4e-4a0b-bee5-27fe796b37d6",
   "metadata": {},
   "outputs": [
    {
     "data": {
      "text/plain": [
       "<bound method DataFrame.info of        anime_id                                               name  \\\n",
       "0         32281                                     Kimi no Na wa.   \n",
       "1          5114                   Fullmetal Alchemist: Brotherhood   \n",
       "2         28977                                           Gintama°   \n",
       "3          9253                                        Steins;Gate   \n",
       "4          9969                                      Gintama&#039;   \n",
       "...         ...                                                ...   \n",
       "12289      9316       Toushindai My Lover: Minami tai Mecha-Minami   \n",
       "12290      5543                                        Under World   \n",
       "12291      5621                     Violence Gekiga David no Hoshi   \n",
       "12292      6133  Violence Gekiga Shin David no Hoshi: Inma Dens...   \n",
       "12293     26081                   Yasuji no Pornorama: Yacchimae!!   \n",
       "\n",
       "                                                   genre   type episodes  \\\n",
       "0                   Drama, Romance, School, Supernatural  Movie        1   \n",
       "1      Action, Adventure, Drama, Fantasy, Magic, Mili...     TV       64   \n",
       "2      Action, Comedy, Historical, Parody, Samurai, S...     TV       51   \n",
       "3                                       Sci-Fi, Thriller     TV       24   \n",
       "4      Action, Comedy, Historical, Parody, Samurai, S...     TV       51   \n",
       "...                                                  ...    ...      ...   \n",
       "12289                                             Hentai    OVA        1   \n",
       "12290                                             Hentai    OVA        1   \n",
       "12291                                             Hentai    OVA        4   \n",
       "12292                                             Hentai    OVA        1   \n",
       "12293                                             Hentai  Movie        1   \n",
       "\n",
       "      rating  members  \n",
       "0       9.37   200630  \n",
       "1       9.26   793665  \n",
       "2       9.25   114262  \n",
       "3       9.17   673572  \n",
       "4       9.16   151266  \n",
       "...      ...      ...  \n",
       "12289   4.15      211  \n",
       "12290   4.28      183  \n",
       "12291   4.88      219  \n",
       "12292   4.98      175  \n",
       "12293   5.46      142  \n",
       "\n",
       "[12294 rows x 7 columns]>"
      ]
     },
     "execution_count": 13,
     "metadata": {},
     "output_type": "execute_result"
    }
   ],
   "source": [
    "df.info"
   ]
  },
  {
   "cell_type": "code",
   "execution_count": 15,
   "id": "c76293d6-9998-4749-856c-7627dfb31050",
   "metadata": {},
   "outputs": [
    {
     "data": {
      "text/plain": [
       "(12294, 7)"
      ]
     },
     "execution_count": 15,
     "metadata": {},
     "output_type": "execute_result"
    }
   ],
   "source": [
    "df.shape"
   ]
  },
  {
   "cell_type": "code",
   "execution_count": 4,
   "id": "a40258a2-3875-4b06-a591-eb41074e5e3f",
   "metadata": {},
   "outputs": [],
   "source": [
    "# Step 2: Compute Similarity Based on Genre\n",
    "tfidf = TfidfVectorizer(stop_words='english')\n",
    "tfidf_matrix = tfidf.fit_transform(df['genre'])\n",
    "cosine_sim = cosine_similarity(tfidf_matrix, tfidf_matrix)"
   ]
  },
  {
   "cell_type": "code",
   "execution_count": 5,
   "id": "7141e16e-c0da-4695-b51b-f4d0dcec8eca",
   "metadata": {},
   "outputs": [],
   "source": [
    "def recommend_anime(title):\n",
    "    indices = pd.Series(df.index, index=df['name']).drop_duplicates()\n",
    "    if title not in indices:\n",
    "        return \"Anime not found. Please check the title.\"\n",
    "    idx = indices[title]\n",
    "    sim_scores = list(enumerate(cosine_sim[idx]))\n",
    "    sim_scores = sorted(sim_scores, key=lambda x: x[1], reverse=True)[1:11]\n",
    "    anime_indices = [i[0] for i in sim_scores]\n",
    "    return df['name'].iloc[anime_indices]"
   ]
  },
  {
   "cell_type": "code",
   "execution_count": 6,
   "id": "6dae6e76-3689-40ad-b97e-09d6351fa5b3",
   "metadata": {},
   "outputs": [
    {
     "name": "stdout",
     "output_type": "stream",
     "text": [
      "615                                    Naruto: Shippuuden\n",
      "841                                                Naruto\n",
      "1103    Boruto: Naruto the Movie - Naruto ga Hokage ni...\n",
      "1343                                          Naruto x UT\n",
      "1472          Naruto: Shippuuden Movie 4 - The Lost Tower\n",
      "1573    Naruto: Shippuuden Movie 3 - Hi no Ishi wo Tsu...\n",
      "2458                 Naruto Shippuuden: Sunny Side Battle\n",
      "2997    Naruto Soyokazeden Movie: Naruto to Mashin to ...\n",
      "7628                              Kyutai Panic Adventure!\n",
      "784            Naruto: Shippuuden Movie 6 - Road to Ninja\n",
      "Name: name, dtype: object\n"
     ]
    }
   ],
   "source": [
    "# Example: Get Recommendations\n",
    "print(recommend_anime('Naruto'))"
   ]
  },
  {
   "cell_type": "markdown",
   "id": "f119608d-8464-4d44-9b79-46ea602423e1",
   "metadata": {},
   "source": [
    "Interview Questions"
   ]
  },
  {
   "cell_type": "markdown",
   "id": "7d1f8494-364c-461a-9856-15316d9fdebc",
   "metadata": {},
   "source": [
    "1. Difference between User-Based and Item-Based Collaborative Filtering:\n",
    "\n",
    "User-Based:\n",
    "Recommends items based on similar users.\n",
    "“Users who are similar to you liked this.”\n",
    "\n",
    "\n",
    "Item-Based:\n",
    "Recommends items similar to what you liked.\n",
    "“You liked X, so you might like Y too.”"
   ]
  },
  {
   "cell_type": "code",
   "execution_count": null,
   "id": "4cd81691-de78-403e-ac1c-62aada9f6204",
   "metadata": {},
   "outputs": [],
   "source": [
    "2. What is Collaborative Filtering and How Does it Work?\n",
    "\n",
    "Collaborative filtering is a technique used to recommend items by using past user behavior (like ratings or purchases).\n",
    "It works by finding similar users or items, predicting what a user might like, and recommending it.\n",
    "\n",
    "Types:\n",
    "User-based\n",
    "Item-based\n",
    "Model-based (uses ML techniques like matrix factorization)"
   ]
  }
 ],
 "metadata": {
  "kernelspec": {
   "display_name": "Python 3 (ipykernel)",
   "language": "python",
   "name": "python3"
  },
  "language_info": {
   "codemirror_mode": {
    "name": "ipython",
    "version": 3
   },
   "file_extension": ".py",
   "mimetype": "text/x-python",
   "name": "python",
   "nbconvert_exporter": "python",
   "pygments_lexer": "ipython3",
   "version": "3.12.4"
  }
 },
 "nbformat": 4,
 "nbformat_minor": 5
}
