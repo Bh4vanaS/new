{
 "cells": [
  {
   "cell_type": "code",
   "execution_count": 2,
   "id": "3881d2df-07ba-451d-9d46-ba17d45f5cc9",
   "metadata": {},
   "outputs": [],
   "source": [
    "import numpy as np\n",
    "import scipy.stats as stats"
   ]
  },
  {
   "cell_type": "code",
   "execution_count": 3,
   "id": "7e10f8e5-8fe6-403c-a971-72761074c39b",
   "metadata": {},
   "outputs": [],
   "source": [
    "sample_data = np.array([1.13, 1.55, 1.43, 0.92, 1.25, 1.36, 1.32, 0.85, 1.07, 1.48, 1.20, 1.33, 1.18, 1.22, 1.29])\n"
   ]
  },
  {
   "cell_type": "code",
   "execution_count": 4,
   "id": "7864f661-b237-4bbb-89fc-629f9c5cc3d8",
   "metadata": {},
   "outputs": [],
   "source": [
    "n = len(sample_data)\n",
    "mean_sample = np.mean(sample_data)\n",
    "std_sample = np.std(sample_data, ddof=1)"
   ]
  },
  {
   "cell_type": "code",
   "execution_count": 5,
   "id": "782e6bcf-cf5b-4067-b21d-5017ed7f260f",
   "metadata": {},
   "outputs": [],
   "source": [
    "confidence_level = 0.99\n",
    "t_critical = stats.t.ppf((1 + confidence_level) / 2, df=n-1)\n",
    "margin_of_error_t = t_critical * (std_sample / np.sqrt(n))\n",
    "ci_lower_t = mean_sample - margin_of_error_t\n",
    "ci_upper_t = mean_sample + margin_of_error_t"
   ]
  },
  {
   "cell_type": "code",
   "execution_count": 6,
   "id": "68dce6e0-fe5e-4331-b78b-966b21ba7a2a",
   "metadata": {},
   "outputs": [
    {
     "name": "stdout",
     "output_type": "stream",
     "text": [
      "99% Confidence Interval using Sample Standard Deviation (t-distribution): (1.0902, 1.3871)\n"
     ]
    }
   ],
   "source": [
    "print(f\"99% Confidence Interval using Sample Standard Deviation (t-distribution): ({ci_lower_t:.4f}, {ci_upper_t:.4f})\")"
   ]
  },
  {
   "cell_type": "code",
   "execution_count": 8,
   "id": "2e7e4b05-ff78-4b7c-a270-ebb34906a937",
   "metadata": {},
   "outputs": [],
   "source": [
    "population_std = 0.2\n",
    "z_critical = stats.norm.ppf((1 + confidence_level) / 2)\n",
    "margin_of_error_z = z_critical * (population_std / np.sqrt(n))\n",
    "ci_lower_z = mean_sample - margin_of_error_z\n",
    "ci_upper_z = mean_sample + margin_of_error_z"
   ]
  },
  {
   "cell_type": "code",
   "execution_count": 9,
   "id": "8175c3dc-41ea-4cf7-aecf-402c17a14a84",
   "metadata": {},
   "outputs": [
    {
     "name": "stdout",
     "output_type": "stream",
     "text": [
      "99% Confidence Interval using Known Population Standard Deviation (z-distribution): (1.1057, 1.3717)\n"
     ]
    }
   ],
   "source": [
    "print(f\"99% Confidence Interval using Known Population Standard Deviation (z-distribution): ({ci_lower_z:.4f}, {ci_upper_z:.4f})\")"
   ]
  },
  {
   "cell_type": "code",
   "execution_count": null,
   "id": "ee6e58d6-576e-4b75-a19d-673c2a9fee3e",
   "metadata": {},
   "outputs": [],
   "source": []
  }
 ],
 "metadata": {
  "kernelspec": {
   "display_name": "Python 3 (ipykernel)",
   "language": "python",
   "name": "python3"
  },
  "language_info": {
   "codemirror_mode": {
    "name": "ipython",
    "version": 3
   },
   "file_extension": ".py",
   "mimetype": "text/x-python",
   "name": "python",
   "nbconvert_exporter": "python",
   "pygments_lexer": "ipython3",
   "version": "3.12.4"
  }
 },
 "nbformat": 4,
 "nbformat_minor": 5
}
